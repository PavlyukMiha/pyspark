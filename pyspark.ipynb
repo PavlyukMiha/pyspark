{
 "cells": [
  {
   "cell_type": "code",
   "execution_count": null,
   "id": "c59841bc",
   "metadata": {},
   "outputs": [],
   "source": [
    "from pyspark.sql import SparkSession, DataFrame\n",
    "import pyspark.sql.functions as F\n",
    "import pyspark.sql.types as t\n",
    "\n",
    "\n",
    "def extract_data(spark: SparkSession) -> DataFrame: # читаем данные\n",
    "    path = \"worldcities.csv\"\n",
    "    return spark.read.option(\"header\", \"true\").csv(path)\n",
    "\n",
    "\n",
    "def transform_data(df: DataFrame, country = 'Russia') -> DataFrame: # считаем необходимые параметры по обпределленной стране\n",
    "    output = (\n",
    "        df\n",
    "        .filter(F.col(\"country\") == country)\n",
    "        .groupBy(\"country\")\n",
    "        .agg(\n",
    "            F.count(\"population\").alias(\"count_cities\"),\n",
    "            F.round(F.avg(\"population\").cast(t.FloatType())).alias(\"avg_population\"),\n",
    "            F.min(F.col(\"population\").cast(t.FloatType())).alias(\"min_population\"),\n",
    "            F.max(F.col(\"population\").cast(t.FloatType())).alias(\"max_population\")\n",
    "        )\n",
    "        \n",
    "    )\n",
    "    return output\n",
    "\n",
    "\n",
    "def save_data(df: DataFrame, pat = \"output.csv\") -> None: # сохраняем в csv\n",
    "    df.write.mode(\"overwrite\").format(\"csv\").save(pat,header = 'true')\n",
    "    \n",
    "\n",
    "def main(): # запускаем \n",
    "    spark = SparkSession.builder.appName(\"cities\").getOrCreate()\n",
    "    df = extract_data(spark)\n",
    "    output = transform_data(df)\n",
    "    save_data(output)\n",
    "    spark.stop()\n",
    "\n",
    "main()"
   ]
  }
 ],
 "metadata": {
  "kernelspec": {
   "display_name": "Python 3 (ipykernel)",
   "language": "python",
   "name": "python3"
  },
  "language_info": {
   "codemirror_mode": {
    "name": "ipython",
    "version": 3
   },
   "file_extension": ".py",
   "mimetype": "text/x-python",
   "name": "python",
   "nbconvert_exporter": "python",
   "pygments_lexer": "ipython3",
   "version": "3.9.7"
  }
 },
 "nbformat": 4,
 "nbformat_minor": 5
}
